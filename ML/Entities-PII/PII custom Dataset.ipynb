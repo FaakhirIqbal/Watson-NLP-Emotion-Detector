{
 "cells": [
  {
   "cell_type": "code",
   "execution_count": 2,
   "metadata": {},
   "outputs": [
    {
     "name": "stdout",
     "output_type": "stream",
     "text": [
      "Collecting faker\n",
      "  Downloading Faker-16.6.1-py3-none-any.whl (1.7 MB)\n",
      "\u001b[2K     \u001b[90m━━━━━━━━━━━━━━━━━━━━━━━━━━━━━━━━━━━━━━━━\u001b[0m \u001b[32m1.7/1.7 MB\u001b[0m \u001b[31m42.7 MB/s\u001b[0m eta \u001b[36m0:00:00\u001b[0m00:01\u001b[0m\n",
      "\u001b[?25hRequirement already satisfied: python-dateutil>=2.4 in /opt/conda/envs/Python-3.10-Premium/lib/python3.10/site-packages (from faker) (2.8.2)\n",
      "Requirement already satisfied: six>=1.5 in /opt/conda/envs/Python-3.10-Premium/lib/python3.10/site-packages (from python-dateutil>=2.4->faker) (1.16.0)\n",
      "Installing collected packages: faker\n",
      "Successfully installed faker-16.6.1\n"
     ]
    }
   ],
   "source": [
    "!pip install faker"
   ]
  },
  {
   "cell_type": "code",
   "execution_count": 118,
   "metadata": {},
   "outputs": [],
   "source": [
    "import json\n",
    "import pandas as pd\n",
    "import random\n",
    "\n",
    "from faker import Faker"
   ]
  },
  {
   "cell_type": "markdown",
   "metadata": {},
   "source": [
    "### Create PII Dataset from Faker library"
   ]
  },
  {
   "cell_type": "markdown",
   "metadata": {},
   "source": [
    "Let's generate PII data from a mix of Faker and custom generators."
   ]
  },
  {
   "cell_type": "code",
   "execution_count": null,
   "metadata": {},
   "outputs": [],
   "source": [
    "faker = Faker(locale='en_US')\n",
    "name_faker = Faker(locale=['en_TH', 'en_IE', 'en_NZ', 'en_IN', 'en_US'])"
   ]
  },
  {
   "cell_type": "code",
   "execution_count": 96,
   "metadata": {},
   "outputs": [],
   "source": [
    "def generate_race():\n",
    "    races = ['American Indian', 'Alaska Native', 'Asian', 'African American', 'Black', 'Hispanic', 'Latino', 'Native Hawaiian', 'Pacific Islander', 'White']\n",
    "    return random.choice(races)"
   ]
  },
  {
   "cell_type": "code",
   "execution_count": 113,
   "metadata": {},
   "outputs": [],
   "source": [
    "def generate_credit_card_company():\n",
    "    credit_card_companies = ['American Express', 'Discover', 'MasterCard', 'Visa']\n",
    "    return random.choice(credit_card_companies)"
   ]
  },
  {
   "cell_type": "code",
   "execution_count": 119,
   "metadata": {},
   "outputs": [],
   "source": [
    "def format_data():\n",
    "    name_non = name_faker.prefix_nonbinary() + \" \" + name_faker.first_name_nonbinary() + \" \" + name_faker.last_name_nonbinary() + \" \" + name_faker.suffix_nonbinary()\n",
    "    name_m = name_faker.prefix_male() + \" \" + name_faker.first_name_male() + \" \" + name_faker.last_name_male() + \" \" + name_faker.suffix_male()\n",
    "    name_f = name_faker.prefix_female() + \" \" + name_faker.first_name_female() + \" \" + name_faker.last_name_female() + \" \" + name_faker.suffix_male()\n",
    "    race = generate_race()\n",
    "    phone = faker.phone_number()\n",
    "    email = faker.ascii_free_email()\n",
    "    address = faker.address()\n",
    "    ssn = faker.ssn()\n",
    "    ccc = generate_credit_card_company()\n",
    "    ccn = faker.credit_card_number()\n",
    "    salary = faker.pricetag()\n",
    "    \n",
    "    text_non = \"My name is %s, I'm a gender neutral person. I belong to the %s race. You can call me at %s, or email me at %s, or visit my home at %s. My social security number is %s. Here's the number to my %s credit card, %s. I make a salary of %s per year.\" %(name_non, race, phone, email, address, ssn, ccc, ccn, salary)\n",
    "    text_m = \"My name is %s, I'm a male. I belong to the %s race. You can call me at %s, or email me at %s, or visit my home at %s. My social security number is %s. Here's the number to my %s credit card, %s. I make a salary of %s per year.\" %(name_m, race, phone, email, address, ssn, ccc, ccn, salary)\n",
    "    text_f = \"My name is %s, I'm a female. I belong to the %s race. You can call me at %s, or email me at %s, or visit my home at %s. My social security number is %s. Here's the number to my %s credit card, %s. I make a salary of %s per year.\" %(name_f, race, phone, email, address, ssn, ccc, ccn, salary)\n",
    "    \n",
    "    text = random.choice([text_non, text_m, text_f])\n",
    "    \n",
    "    if text == text_non:\n",
    "        name = name_non\n",
    "        gender = \"gender neutral person\"\n",
    "    elif text == text_m:\n",
    "        name = name_m\n",
    "        gender = \"male\"\n",
    "    elif text == text_f:\n",
    "        name = name_f\n",
    "        gender = \"female\"\n",
    "    \n",
    "    name_begin = text.find(name)\n",
    "    name_end = name_begin + len(name)\n",
    "    race_begin = text.find(race)\n",
    "    race_end = race_begin + len(race)\n",
    "    gender_begin = text.find(gender)\n",
    "    gender_end = gender_begin + len(gender)\n",
    "    phone_begin = text.find(phone)\n",
    "    phone_end = phone_begin + len(phone)\n",
    "    email_begin = text.find(email)\n",
    "    email_end = email_begin + len(email)\n",
    "    address_begin = text.find(address)\n",
    "    address_end = address_begin + len(address)\n",
    "    ssn_begin = text.find(ssn)\n",
    "    ssn_end = ssn_begin + len(ssn)\n",
    "    ccn_begin = text.find(ccn)\n",
    "    ccn_end = ccn_begin + len(ccn)\n",
    "    salary_begin = text.find(salary)\n",
    "    salary_end = salary_begin + len(salary)\n",
    "    \n",
    "    data = {\n",
    "                \"text\": text,\n",
    "                \"mentions\": [\n",
    "                    {\n",
    "                        \"location\": {\n",
    "                            \"begin\": name_begin,\n",
    "                            \"end\": name_end\n",
    "                        },\n",
    "                        \"text\": name,\n",
    "                        \"type\": \"Name\"\n",
    "                    },\n",
    "                    {\n",
    "                        \"location\": {\n",
    "                            \"begin\": race_begin,\n",
    "                            \"end\": race_end\n",
    "                        },\n",
    "                        \"text\": name,\n",
    "                        \"type\": \"Race\"\n",
    "                    },\n",
    "                    {\n",
    "                        \"location\": {\n",
    "                            \"begin\": gender_begin,\n",
    "                            \"end\": gender_end\n",
    "                        },\n",
    "                        \"text\": gender,\n",
    "                        \"type\": \"Gender\"\n",
    "                    },\n",
    "                    {\n",
    "                        \"location\": {\n",
    "                            \"begin\": phone_begin,\n",
    "                            \"end\": phone_end\n",
    "                        },\n",
    "                        \"text\": phone,\n",
    "                        \"type\": \"PhoneNumber\"\n",
    "                    },\n",
    "                    {\n",
    "                        \"location\": {\n",
    "                            \"begin\": email_begin,\n",
    "                            \"end\": email_end\n",
    "                        },\n",
    "                        \"text\": email,\n",
    "                        \"type\": \"Email\"\n",
    "                    },\n",
    "                    {\n",
    "                        \"location\": {\n",
    "                            \"begin\": address_begin,\n",
    "                            \"end\": address_end\n",
    "                        },\n",
    "                        \"text\": address,\n",
    "                        \"type\": \"Address\"\n",
    "                    },\n",
    "                    {\n",
    "                        \"location\": {\n",
    "                            \"begin\": ssn_begin,\n",
    "                            \"end\": ssn_end\n",
    "                        },\n",
    "                        \"text\": ssn,\n",
    "                        \"type\": \"SocialSecurityNumber\"\n",
    "                    },\n",
    "                    {\n",
    "                        \"location\": {\n",
    "                            \"begin\": ccn_begin,\n",
    "                            \"end\": ccn_end\n",
    "                        },\n",
    "                        \"text\": ccn,\n",
    "                        \"type\": \"CreditCardNumber\"\n",
    "                    },\n",
    "                    {\n",
    "                        \"location\": {\n",
    "                            \"begin\": salary_begin,\n",
    "                            \"end\": salary_end\n",
    "                        },\n",
    "                        \"text\": salary,\n",
    "                        \"type\": \"Salary\"\n",
    "                    }\n",
    "                ]   \n",
    "            }\n",
    "    \n",
    "    return data"
   ]
  },
  {
   "cell_type": "code",
   "execution_count": 120,
   "metadata": {},
   "outputs": [
    {
     "data": {
      "text/plain": [
       "{'text': \"My name is CPO 1 Kelly Pongpanitch , I'm a female. I belong to the Alaska Native race. You can call me at 433.752.8625x83879, or email me at bakeramber@yahoo.com, or visit my home at 4087 Vaughn Plains\\nSouth Jonathan, HI 29167. My social security number is 890-47-4541. Here's the number to my MasterCard credit card, 180098864077934. I make a salary of $848.94 per year.\",\n",
       " 'mentions': [{'location': {'begin': 11, 'end': 35},\n",
       "   'text': 'CPO 1 Kelly Pongpanitch ',\n",
       "   'type': 'Name'},\n",
       "  {'location': {'begin': 67, 'end': 80},\n",
       "   'text': 'CPO 1 Kelly Pongpanitch ',\n",
       "   'type': 'Race'},\n",
       "  {'location': {'begin': 43, 'end': 49}, 'text': 'female', 'type': 'Gender'},\n",
       "  {'location': {'begin': 106, 'end': 124},\n",
       "   'text': '433.752.8625x83879',\n",
       "   'type': 'PhoneNumber'},\n",
       "  {'location': {'begin': 141, 'end': 161},\n",
       "   'text': 'bakeramber@yahoo.com',\n",
       "   'type': 'Email'},\n",
       "  {'location': {'begin': 183, 'end': 226},\n",
       "   'text': '4087 Vaughn Plains\\nSouth Jonathan, HI 29167',\n",
       "   'type': 'Address'},\n",
       "  {'location': {'begin': 257, 'end': 268},\n",
       "   'text': '890-47-4541',\n",
       "   'type': 'SocialSecurityNumber'},\n",
       "  {'location': {'begin': 318, 'end': 333},\n",
       "   'text': '180098864077934',\n",
       "   'type': 'CreditCardNumber'},\n",
       "  {'location': {'begin': 354, 'end': 361},\n",
       "   'text': '$848.94',\n",
       "   'type': 'Salary'}]}"
      ]
     },
     "execution_count": 120,
     "metadata": {},
     "output_type": "execute_result"
    }
   ],
   "source": [
    "format_data()"
   ]
  },
  {
   "cell_type": "code",
   "execution_count": 121,
   "metadata": {},
   "outputs": [
    {
     "data": {
      "text/plain": [
       "{'file_name': 'PII_faker_text_train.json',\n",
       " 'message': 'File saved to project storage.',\n",
       " 'bucket_name': 'watsoncore-donotdelete-pr-olkxvfa8bk0pb1',\n",
       " 'asset_id': '0246fc73-2b95-4ea9-9eb0-ae5eacb6ecc6'}"
      ]
     },
     "execution_count": 121,
     "metadata": {},
     "output_type": "execute_result"
    }
   ],
   "source": [
    "train_list_faker = []\n",
    "for i in range(0, 30000):\n",
    "    train_list_faker.append(format_data())\n",
    "\n",
    "with open('PII_faker_text_train.json', 'w') as f:\n",
    "    json.dump(train_list_faker, f)\n",
    "project.save_data('PII_faker_text_train.json', data=json.dumps(train_list_faker), overwrite=True)"
   ]
  },
  {
   "cell_type": "code",
   "execution_count": null,
   "metadata": {},
   "outputs": [],
   "source": [
    "dev_list_faker = []\n",
    "for i in range(0, 7500):\n",
    "    dev_list_faker.append(format_data())\n",
    "\n",
    "with open('PII_faker_text_dev.json', 'w') as f:\n",
    "    json.dump(dev_list_faker, f)\n",
    "project.save_data('PII_faker_text_dev.json', data=json.dumps(dev_list_faker), overwrite=True)"
   ]
  },
  {
   "cell_type": "markdown",
   "metadata": {},
   "source": [
    "Save the sentences into a json training file and a json dev file. This will save the file to the runtime local as well as the project data assets."
   ]
  },
  {
   "cell_type": "markdown",
   "metadata": {},
   "source": [
    "### Create PII Dataset from XLSX PII Data"
   ]
  },
  {
   "cell_type": "markdown",
   "metadata": {},
   "source": [
    "Let's generate sentences using the columns of PII information. Ideally, the sentences would include name, SSN, and credit card number in context. Insert the Microsoft PII XLSX dataset below."
   ]
  },
  {
   "cell_type": "code",
   "execution_count": null,
   "metadata": {},
   "outputs": [],
   "source": []
  },
  {
   "cell_type": "code",
   "execution_count": null,
   "metadata": {},
   "outputs": [],
   "source": [
    "def format_data(df, name_col, ssn_col, ccn_col):  \n",
    "    import random\n",
    "    \n",
    "    train_list = []\n",
    "    for i in range(1, len(df)):\n",
    "        name = df[name_col][i] \n",
    "        ssn = str(df[ssn_col][i])\n",
    "        ccn = str(df[ccn_col][i])\n",
    "        \n",
    "        text1 = \"My name is %s, and my social security number is %s. Here's the number to my Visa credit card, %s\" % (name, ssn, ccn)\n",
    "        text2 = \"%s is my social security number. The name on my American Express card %s is %s.\" % (ssn, ccn, name)\n",
    "\n",
    "        text = random.choice([text1, text2])\n",
    "\n",
    "        name_begin = text.find(name)\n",
    "        name_end = text.find(name) + len(name)\n",
    "        ssn_begin = text.find(ssn)\n",
    "        ssn_end = text.find(ssn) + len(ssn)\n",
    "        ccn_begin = text.find(ccn)\n",
    "        ccn_end = text.find(ccn) + len(ccn)\n",
    "\n",
    "        data = {\n",
    "                    \"text\": text,\n",
    "                    \"mentions\": [\n",
    "                        {\n",
    "                            \"location\": {\n",
    "                                \"begin\": name_begin,\n",
    "                                \"end\": name_end\n",
    "                            },\n",
    "                            \"text\": name,\n",
    "                            \"type\": \"Name\"\n",
    "                        },\n",
    "                        {\n",
    "                            \"location\": {\n",
    "                                \"begin\": ssn_begin,\n",
    "                                \"end\": ssn_end\n",
    "                            },\n",
    "                            \"text\": ssn,\n",
    "                            \"type\": \"SocialSecurityNumber\"\n",
    "                        },\n",
    "                        {\n",
    "                            \"location\": {\n",
    "                                \"begin\": ccn_begin,\n",
    "                                \"end\": ccn_end\n",
    "                            },\n",
    "                            \"text\": ccn,\n",
    "                            \"type\": \"CreditCardNumber\"\n",
    "                        }\n",
    "                    ]   \n",
    "                }\n",
    "\n",
    "        train_list.append(data)\n",
    "    return train_list"
   ]
  },
  {
   "cell_type": "code",
   "execution_count": null,
   "metadata": {},
   "outputs": [],
   "source": [
    "train_list = format_data(df=df, name_col='First and Last Name', ssn_col='SSN', ccn_col='Credit Card Number')\n",
    "\n",
    "with open('PII_text_train.json', 'w') as f:\n",
    "    json.dump(train_list, f)\n",
    "project.save_data('PII_text_train.json', data=json.dumps(train_list), overwrite=True)"
   ]
  },
  {
   "cell_type": "code",
   "execution_count": null,
   "metadata": {},
   "outputs": [],
   "source": [
    "dev_list = format_data(df=df, name_col='First and Last Name.1', ssn_col='SSN.1', ccn_col='Credit Card Number.1')\n",
    "\n",
    "with open('PII_text_dev.json', 'w') as f:\n",
    "    json.dump(dev_list, f)\n",
    "project.save_data('PII_text_dev.json', data=json.dumps(dev_list), overwrite=True)"
   ]
  },
  {
   "cell_type": "markdown",
   "metadata": {},
   "source": [
    "Save the sentences into a json training file and a json dev file. This will save the file to the runtime local as well as the project data assets."
   ]
  },
  {
   "cell_type": "code",
   "execution_count": null,
   "metadata": {},
   "outputs": [],
   "source": []
  }
 ],
 "metadata": {
  "kernelspec": {
   "display_name": "Python 3.10",
   "language": "python",
   "name": "python3"
  },
  "language_info": {
   "codemirror_mode": {
    "name": "ipython",
    "version": 3
   },
   "file_extension": ".py",
   "mimetype": "text/x-python",
   "name": "python",
   "nbconvert_exporter": "python",
   "pygments_lexer": "ipython3",
   "version": "3.10.6"
  }
 },
 "nbformat": 4,
 "nbformat_minor": 1
}
