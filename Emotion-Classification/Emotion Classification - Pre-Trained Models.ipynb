{
 "cells": [
  {
   "cell_type": "code",
   "execution_count": 1,
   "id": "caff11eb",
   "metadata": {},
   "outputs": [],
   "source": [
    "# @hidden_cell\n",
    "# The project token is an authorization token that is used to access project resources like data sources, connections, and used by platform APIs.\n",
    "from project_lib import Project\n",
    "project = Project(project_id='ae1a755d-e162-4f07-9f5a-130d2280e78e', project_access_token='p-aa90b9b21de435c3f4c94494a24b5c5e69d030f8')\n",
    "pc = project.project_context\n"
   ]
  },
  {
   "cell_type": "markdown",
   "id": "3faa04a0",
   "metadata": {},
   "source": [
    "# Classifying emotions in movie dialogue using Watson NLP - pre-trained models"
   ]
  },
  {
   "cell_type": "markdown",
   "id": "28f7aeed",
   "metadata": {},
   "source": [
    "This notebook demonstrates how to classify emotions in tweets using Watson NLP python library\n",
    "\n",
    "### What you'll learn in this notebook\n",
    "Watson NLP offers so-called blocks for various NLP tasks. This notebook shows:\n",
    "\n",
    "- **Syntax analysis** with the _Syntax block_ for English (`syntax_izumo_en_stock`). This block performs tokenization, lemmatization, parts of speech tagging, and dependency parsing on raw input documents so that custom models can properly classify documents.\n",
    "- **Emotion classification** with the _Ensemble emotion workflow_ (`ensemble_classification-wf_en_emotion-stock`) and the _Aggregated emotion workflow_ (`aggregated_classification-wf_en_emotion-stock`). These model workflow classify text into five emotions: \"sadness\", \"joy\", \"anger\", \"fear\", \"disgust\".\n",
    "\n",
    "## Table of Contents\n",
    "\n",
    "1.  [Before you start](#beforeYouStart)\n",
    "1.\t[Data Loading](#loadData)\n",
    "1.  [Data Processing](#dataProcessing)\n",
    "    1. [Data formatting](#dataFormat)\n",
    "    1. [Train test split](#trainTestSplit) \n",
    "1. [Running pretrained models](#pretrainedOOTB)\n",
    "    1. [Ensemble emotion model](#ensemble)\n",
    "    1. [Aggregated emotion workflow](#aggregated)\n",
    "1. [Exploring document level token level predictions](#words)\n",
    "1.  [Summary](#summary)"
   ]
  },
  {
   "cell_type": "markdown",
   "id": "6b63d308",
   "metadata": {},
   "source": [
    "<a id=\"beforeYouStart\"></a>\n",
    "## 1. Before you start"
   ]
  },
  {
   "cell_type": "markdown",
   "id": "7abcf0ed",
   "metadata": {},
   "source": [
    "<div class=\"alert alert-block alert-danger\">\n",
    "<b>Stop kernel of other notebooks.</b></div>\n",
    "\n",
    "**Note:** If you have other notebooks currently running with the _Default Python 3.8 + Watson NLP XS_ environment, **stop their kernels** before running this notebook. All these notebooks share the same runtime environment, and if they are running in parallel, you may encounter memory issues. To stop the kernel of another notebook, open that notebook, and select _File > Stop Kernel_.\n",
    "\n",
    "<div class=\"alert alert-block alert-warning\">\n",
    "<b>Set Project token.</b></div>\n",
    "\n",
    "Before you can begin working on this notebook in Watson Studio in Cloud Pak for Data as a Service, you need to ensure that the project token is set so that you can access the project assets via the notebook.\n",
    "\n",
    "When this notebook is added to the project, a project access token should be inserted at the top of the notebook in a code cell. If you do not see the cell above, add the token to the notebook by clicking **More > Insert project token** from the notebook action bar.  By running the inserted hidden code cell, a project object is created that you can use to access project resources.\n",
    "\n",
    "![ws-project.mov](https://media.giphy.com/media/jSVxX2spqwWF9unYrs/giphy.gif)\n",
    "\n",
    "<div class=\"alert alert-block alert-info\">\n",
    "<b>Tip:</b> Cell execution</div>\n",
    "\n",
    "Note that you can step through the notebook execution cell by cell, by selecting Shift-Enter. Or you can execute the entire notebook by selecting **Cell -> Run All** from the menu."
   ]
  },
  {
   "cell_type": "markdown",
   "id": "2e2a0256",
   "metadata": {},
   "source": [
    "<span style=\"color:blueviolet\">Begin by importing and initializing some helper libs that are used throughout the notebook.</span>\n"
   ]
  },
  {
   "cell_type": "code",
   "execution_count": 2,
   "id": "6c165050",
   "metadata": {},
   "outputs": [],
   "source": [
    "import json\n",
    "import matplotlib.pyplot as plt\n",
    "import pandas as pd\n",
    "import seaborn as sns\n",
    "import tensorflow as tf\n",
    "import watson_nlp\n",
    "import watson_nlp.data_model as dm\n",
    "\n",
    "from sklearn.model_selection import train_test_split\n",
    "\n",
    "from watson_core.toolkit import fileio\n",
    "from watson_core.toolkit.quality_evaluation import QualityEvaluator, EvalTypes\n",
    "\n",
    "from watson_nlp.blocks.classification.bert import BERT\n",
    "from watson_nlp.blocks.classification.cnn import CNN\n",
    "from watson_core.data_model.streams.resolver import DataStreamResolver\n",
    "from watson_core.data_model.streams.resolver import DataStream\n",
    "from watson_nlp.blocks.classification.svm import SVM\n",
    "from watson_nlp.blocks.vectorization.tfidf import TFIDF"
   ]
  },
  {
   "cell_type": "code",
   "execution_count": 3,
   "id": "1dabb6de",
   "metadata": {},
   "outputs": [],
   "source": [
    "pd.set_option('display.max_colwidth', 0)"
   ]
  },
  {
   "cell_type": "markdown",
   "id": "d3fd319c",
   "metadata": {},
   "source": [
    "<span style=\"color:maroon\">Printing either `block_models` or `workflow_models` will display a list of pretrained models available in the current version of Watson NLP</span>"
   ]
  },
  {
   "cell_type": "code",
   "execution_count": 4,
   "id": "f4645052",
   "metadata": {},
   "outputs": [],
   "source": [
    "block_models = watson_nlp.get_models().get_alias_models()\n",
    "workflow_models = watson_nlp.get_workflows().get_alias_models()"
   ]
  },
  {
   "cell_type": "markdown",
   "id": "465ca956",
   "metadata": {},
   "source": [
    "<a id=\"loadData\"></a>\n",
    "## 2. Data Loading\n",
    "\n",
    "The dataset contains over three thousand quotations from movie dialogues. The labeled emotions in the dataset are \"anger\", \"sadness\", \"fear\", \"joy\", and \"disgust\". Because some quotations have multiple sentences, they can be regarded as documents. The dataset is available interanlly at [Github Repo](https://github.ibm.com/hcbt/Watson-NLP/blob/main/Emotion-Classification/movieDialog_train.csv), in accordance to IBM licensing; any other emotion classification dataset may be used in substitution for the workflow outlined in this notebook."
   ]
  },
  {
   "cell_type": "markdown",
   "id": "65644bca",
   "metadata": {},
   "source": [
    "<span style=\"color:blue\">The previously inserted project access token will be used to import datasets from the Project Data Assets. The most commonly imported file formats are .csv and .json.</span>"
   ]
  },
  {
   "cell_type": "code",
   "execution_count": 5,
   "id": "97373e9a",
   "metadata": {},
   "outputs": [],
   "source": [
    "file = project.get_file('movieDialog_train.csv')\n",
    "df = pd.read_csv(file)"
   ]
  },
  {
   "cell_type": "markdown",
   "id": "6d99cd3c",
   "metadata": {},
   "source": [
    "<a id=\"dataProcessing\"></a>\n",
    "## 3. Data Processing"
   ]
  },
  {
   "cell_type": "markdown",
   "id": "95dbaf89",
   "metadata": {},
   "source": [
    "<a id=\"dataFormat\"></a>\n",
    "### 3.1. Data formatting\n",
    "\n",
    "<span style=\"color:blue\">Data prepared for Watson NLP models need to be formatted in such a way that there is a `text` feature column and a `labels` label column. The `labels` column needs have type `list`.</span>"
   ]
  },
  {
   "cell_type": "code",
   "execution_count": 6,
   "id": "d262d5ff",
   "metadata": {},
   "outputs": [],
   "source": [
    "def convertToList(x):\n",
    "    return [x]"
   ]
  },
  {
   "cell_type": "code",
   "execution_count": 7,
   "id": "1989005f",
   "metadata": {},
   "outputs": [],
   "source": [
    "df['label'] = df['label'].apply(convertToList)\n",
    "df = df.rename(columns={'label':'labels'})"
   ]
  },
  {
   "cell_type": "markdown",
   "id": "5c194cdc",
   "metadata": {},
   "source": [
    "<a id=\"trainTestSplit\"></a>\n",
    "### 3.2. Train Test Split\n",
    "\n",
    "<div class=\"alert alert-block alert-info\">\n",
    "<b>Tip:</b> If you want to carry out emotion analysis on any other dataset, you should first upload the dataset into the project and then update the name of the file in the next cell</div>\n",
    "<br>\n",
    "\n",
    "<span style=\"color:blue\">The data will be split into an 80/20 train-test split using sklearn and then exported into JSON format for the Watson NLP models to consume. Additionally, the column headers will be renamed to the expected `text` and `labels` names, with the labels having type list.</span>"
   ]
  },
  {
   "cell_type": "code",
   "execution_count": 8,
   "id": "c4b73c5b",
   "metadata": {},
   "outputs": [],
   "source": [
    "df_train, df_test = train_test_split(df, test_size=0.2)"
   ]
  },
  {
   "cell_type": "code",
   "execution_count": 9,
   "id": "0b5b3db1",
   "metadata": {},
   "outputs": [],
   "source": [
    "df_train.to_json('movieDialog_train.json', orient='records')\n",
    "df_test.to_json('movieDialog_test.json', orient='records')"
   ]
  },
  {
   "cell_type": "code",
   "execution_count": 10,
   "id": "61ee88cb",
   "metadata": {},
   "outputs": [
    {
     "data": {
      "text/html": [
       "<div>\n",
       "<style scoped>\n",
       "    .dataframe tbody tr th:only-of-type {\n",
       "        vertical-align: middle;\n",
       "    }\n",
       "\n",
       "    .dataframe tbody tr th {\n",
       "        vertical-align: top;\n",
       "    }\n",
       "\n",
       "    .dataframe thead th {\n",
       "        text-align: right;\n",
       "    }\n",
       "</style>\n",
       "<table border=\"1\" class=\"dataframe\">\n",
       "  <thead>\n",
       "    <tr style=\"text-align: right;\">\n",
       "      <th></th>\n",
       "      <th>text</th>\n",
       "      <th>labels</th>\n",
       "      <th>source</th>\n",
       "    </tr>\n",
       "  </thead>\n",
       "  <tbody>\n",
       "    <tr>\n",
       "      <th>3358</th>\n",
       "      <td>Where am I gonna start?</td>\n",
       "      <td>[neutral]</td>\n",
       "      <td>MovieDialog</td>\n",
       "    </tr>\n",
       "    <tr>\n",
       "      <th>1878</th>\n",
       "      <td>You're insane or you think I am.</td>\n",
       "      <td>[anger]</td>\n",
       "      <td>MovieDialog</td>\n",
       "    </tr>\n",
       "    <tr>\n",
       "      <th>536</th>\n",
       "      <td>Oh, that's 'cause we both play doohickies. I met him in a box car a couple o' years ago. I was foolin' around with my harmonica and he comes over and joins in. I haven't been able to shake him since.</td>\n",
       "      <td>[fear]</td>\n",
       "      <td>MovieDialog</td>\n",
       "    </tr>\n",
       "    <tr>\n",
       "      <th>797</th>\n",
       "      <td>Was it something that happened at school?</td>\n",
       "      <td>[fear]</td>\n",
       "      <td>MovieDialog</td>\n",
       "    </tr>\n",
       "    <tr>\n",
       "      <th>1565</th>\n",
       "      <td>A dirtbag behind the counter holding a sawed-off. A Berretta nine millimeter in his belt. A female hostage, red dress, on the floor in front of the cereal display. Male hostage, jeans and blue checked shirt, three feet to her right. Another male hostage, white pants, green shirt, Nikes, laying in front of the magazine rack. A female dirtbag with a gun under her shirt, sitting against the beer cooler, trying to pass herself off as a hostage, and there's a special on toilet-paper, four for a buck twenty-nine.</td>\n",
       "      <td>[anger]</td>\n",
       "      <td>MovieDialog</td>\n",
       "    </tr>\n",
       "    <tr>\n",
       "      <th>...</th>\n",
       "      <td>...</td>\n",
       "      <td>...</td>\n",
       "      <td>...</td>\n",
       "    </tr>\n",
       "    <tr>\n",
       "      <th>723</th>\n",
       "      <td>Yes.  It would be a pity, wouldn't it?  Call him back!</td>\n",
       "      <td>[sadness]</td>\n",
       "      <td>MovieDialog</td>\n",
       "    </tr>\n",
       "    <tr>\n",
       "      <th>853</th>\n",
       "      <td>Nicky? Oh my God. Stay right there.</td>\n",
       "      <td>[fear]</td>\n",
       "      <td>MovieDialog</td>\n",
       "    </tr>\n",
       "    <tr>\n",
       "      <th>2463</th>\n",
       "      <td>Here's one by a man that's very much alive.</td>\n",
       "      <td>[neutral]</td>\n",
       "      <td>MovieDialog</td>\n",
       "    </tr>\n",
       "    <tr>\n",
       "      <th>2379</th>\n",
       "      <td>Thank you very much. Thank you my dear. Girl bows and exits to loud applause.</td>\n",
       "      <td>[happiness]</td>\n",
       "      <td>MovieDialog</td>\n",
       "    </tr>\n",
       "    <tr>\n",
       "      <th>2703</th>\n",
       "      <td>Hey.  C'mon, you can't leave me like this.  Some freak'll come by and stab me!</td>\n",
       "      <td>[anger]</td>\n",
       "      <td>MovieDialog</td>\n",
       "    </tr>\n",
       "  </tbody>\n",
       "</table>\n",
       "<p>3439 rows × 3 columns</p>\n",
       "</div>"
      ],
      "text/plain": [
       "                                                                                                                                                                                                                                                                                                                                                                                                                                                                                                                                   text  \\\n",
       "3358  Where am I gonna start?                                                                                                                                                                                                                                                                                                                                                                                                                                                                                                             \n",
       "1878  You're insane or you think I am.                                                                                                                                                                                                                                                                                                                                                                                                                                                                                                    \n",
       "536   Oh, that's 'cause we both play doohickies. I met him in a box car a couple o' years ago. I was foolin' around with my harmonica and he comes over and joins in. I haven't been able to shake him since.                                                                                                                                                                                                                                                                                                                             \n",
       "797   Was it something that happened at school?                                                                                                                                                                                                                                                                                                                                                                                                                                                                                           \n",
       "1565  A dirtbag behind the counter holding a sawed-off. A Berretta nine millimeter in his belt. A female hostage, red dress, on the floor in front of the cereal display. Male hostage, jeans and blue checked shirt, three feet to her right. Another male hostage, white pants, green shirt, Nikes, laying in front of the magazine rack. A female dirtbag with a gun under her shirt, sitting against the beer cooler, trying to pass herself off as a hostage, and there's a special on toilet-paper, four for a buck twenty-nine.    \n",
       "...                                                                                                                                                                                                                                                                                                                                                                                                                                                                                                                                 ...   \n",
       "723   Yes.  It would be a pity, wouldn't it?  Call him back!                                                                                                                                                                                                                                                                                                                                                                                                                                                                              \n",
       "853   Nicky? Oh my God. Stay right there.                                                                                                                                                                                                                                                                                                                                                                                                                                                                                                 \n",
       "2463  Here's one by a man that's very much alive.                                                                                                                                                                                                                                                                                                                                                                                                                                                                                         \n",
       "2379  Thank you very much. Thank you my dear. Girl bows and exits to loud applause.                                                                                                                                                                                                                                                                                                                                                                                                                                                       \n",
       "2703  Hey.  C'mon, you can't leave me like this.  Some freak'll come by and stab me!                                                                                                                                                                                                                                                                                                                                                                                                                                                      \n",
       "\n",
       "           labels       source  \n",
       "3358  [neutral]    MovieDialog  \n",
       "1878  [anger]      MovieDialog  \n",
       "536   [fear]       MovieDialog  \n",
       "797   [fear]       MovieDialog  \n",
       "1565  [anger]      MovieDialog  \n",
       "...       ...              ...  \n",
       "723   [sadness]    MovieDialog  \n",
       "853   [fear]       MovieDialog  \n",
       "2463  [neutral]    MovieDialog  \n",
       "2379  [happiness]  MovieDialog  \n",
       "2703  [anger]      MovieDialog  \n",
       "\n",
       "[3439 rows x 3 columns]"
      ]
     },
     "execution_count": 10,
     "metadata": {},
     "output_type": "execute_result"
    }
   ],
   "source": [
    "df_train"
   ]
  },
  {
   "cell_type": "markdown",
   "id": "bc8f3bc8",
   "metadata": {},
   "source": [
    "<a id=\"pretrainedOOTB\"></a>\n",
    "## 4. Running pretrained models\n",
    "<span style=\"color:blue\">Watson NLP has two pretrained/prebuilt emotion classificaiton models using the workflow system. \n",
    "The following examples will use *\\\"Such a sweet boy. But after much thought and careful consideration, I've decided that the ruler for the next ten thousand years is going to have to be... me.\\\"* as a single input test with the expected label to be *\\\"joy\\\"*.</span>"
   ]
  },
  {
   "cell_type": "markdown",
   "id": "8938f62b",
   "metadata": {},
   "source": [
    "<a id=\"ensemble\"></a>\n",
    "### Ensemble emotion model\n",
    "<br>\n",
    "<span style=\"color:blue\">Ensemble emotion model will perform document emotion classification. [Docs](https://pages.github.ibm.com/ai-foundation/watson-nlp-documentation/workflow_emotion_classification.html)</span>"
   ]
  },
  {
   "cell_type": "code",
   "execution_count": 11,
   "id": "0988a46a",
   "metadata": {},
   "outputs": [],
   "source": [
    "# Load the Emotion workflow model for English\n",
    "ensemble_emotion_model = watson_nlp.load(watson_nlp.download('ensemble_classification-wf_en_emotion-stock'))"
   ]
  },
  {
   "cell_type": "markdown",
   "id": "d064dbdc",
   "metadata": {},
   "source": [
    "<span style=\"color:blueviolet\">The result of the Ensemble model returns a list of dictionaries that indicate each label and its confidence score. The highest confidence score deems the label of prediction.</span>"
   ]
  },
  {
   "cell_type": "code",
   "execution_count": 12,
   "id": "272b302a",
   "metadata": {},
   "outputs": [
    {
     "name": "stdout",
     "output_type": "stream",
     "text": [
      "{\n",
      "  \"classes\": [\n",
      "    {\n",
      "      \"class_name\": \"joy\",\n",
      "      \"confidence\": 0.520251523364674\n",
      "    },\n",
      "    {\n",
      "      \"class_name\": \"sadness\",\n",
      "      \"confidence\": 0.13437655658432934\n",
      "    },\n",
      "    {\n",
      "      \"class_name\": \"anger\",\n",
      "      \"confidence\": 0.030973352040305283\n",
      "    },\n",
      "    {\n",
      "      \"class_name\": \"fear\",\n",
      "      \"confidence\": 0.023922530189972323\n",
      "    },\n",
      "    {\n",
      "      \"class_name\": \"disgust\",\n",
      "      \"confidence\": 0.01345159203717203\n",
      "    }\n",
      "  ],\n",
      "  \"producer_id\": {\n",
      "    \"name\": \"Voting based Ensemble\",\n",
      "    \"version\": \"0.0.1\"\n",
      "  }\n",
      "}\n"
     ]
    }
   ],
   "source": [
    "# Run the Emotion model on a single document\n",
    "ensemble_emotion_result = ensemble_emotion_model.run(\"Such a sweet boy. But after much thought and careful consideration, I've decided that the ruler for the next ten thousand years is going to have to be... me. \")\n",
    "print(ensemble_emotion_result)"
   ]
  },
  {
   "cell_type": "markdown",
   "id": "e9c1ea5e",
   "metadata": {},
   "source": [
    "<span style=\"color:blueviolet\">The Ensemble model also has the `model.evaluate_quality()` function, which allows the evaluation of an entire test set. The result returns a dictionary of dictionaries that map each label to its confusion matrix, precision and recall, and f1 score.</span>"
   ]
  },
  {
   "cell_type": "code",
   "execution_count": 13,
   "id": "ae318b72",
   "metadata": {
    "scrolled": true
   },
   "outputs": [
    {
     "name": "stdout",
     "output_type": "stream",
     "text": [
      "{\n",
      "    \"per_class_confusion_matrix\": {\n",
      "        \"anger\": {\n",
      "            \"true_positive\": 169,\n",
      "            \"true_negative\": 0,\n",
      "            \"false_positive\": 56,\n",
      "            \"false_negative\": 126,\n",
      "            \"precision\": 0.7511111111111111,\n",
      "            \"recall\": 0.5728813559322034,\n",
      "            \"f1\": 0.65\n",
      "        },\n",
      "        \"neutral\": {\n",
      "            \"true_positive\": 0,\n",
      "            \"true_negative\": 0,\n",
      "            \"false_positive\": 0,\n",
      "            \"false_negative\": 287,\n",
      "            \"precision\": 0,\n",
      "            \"recall\": 0.0,\n",
      "            \"f1\": 0\n",
      "        },\n",
      "        \"joy\": {\n",
      "            \"true_positive\": 0,\n",
      "            \"true_negative\": 0,\n",
      "            \"false_positive\": 262,\n",
      "            \"false_negative\": 0,\n",
      "            \"precision\": 0.0,\n",
      "            \"recall\": 0,\n",
      "            \"f1\": 0\n",
      "        },\n",
      "        \"sadness\": {\n",
      "            \"true_positive\": 61,\n",
      "            \"true_negative\": 0,\n",
      "            \"false_positive\": 194,\n",
      "            \"false_negative\": 40,\n",
      "            \"precision\": 0.23921568627450981,\n",
      "            \"recall\": 0.6039603960396039,\n",
      "            \"f1\": 0.34269662921348315\n",
      "        },\n",
      "        \"happiness\": {\n",
      "            \"true_positive\": 0,\n",
      "            \"true_negative\": 0,\n",
      "            \"false_positive\": 0,\n",
      "            \"false_negative\": 97,\n",
      "            \"precision\": 0,\n",
      "            \"recall\": 0.0,\n",
      "            \"f1\": 0\n",
      "        },\n",
      "        \"fear\": {\n",
      "            \"true_positive\": 18,\n",
      "            \"true_negative\": 0,\n",
      "            \"false_positive\": 78,\n",
      "            \"false_negative\": 17,\n",
      "            \"precision\": 0.1875,\n",
      "            \"recall\": 0.5142857142857142,\n",
      "            \"f1\": 0.2748091603053435\n",
      "        },\n",
      "        \"disgust\": {\n",
      "            \"true_positive\": 9,\n",
      "            \"true_negative\": 0,\n",
      "            \"false_positive\": 13,\n",
      "            \"false_negative\": 36,\n",
      "            \"precision\": 0.4090909090909091,\n",
      "            \"recall\": 0.2,\n",
      "            \"f1\": 0.2686567164179105\n",
      "        }\n",
      "    },\n",
      "    \"macro_precision\": 0.22670252949664715,\n",
      "    \"macro_recall\": 0.27016106660821737,\n",
      "    \"macro_f1\": 0.21945178656239103,\n",
      "    \"micro_precision\": 0.2988372093023256,\n",
      "    \"micro_recall\": 0.2988372093023256,\n",
      "    \"micro_f1\": 0.2988372093023256,\n",
      "    \"overall_tp\": 257,\n",
      "    \"overall_fp\": 603,\n",
      "    \"overall_fn\": 603,\n",
      "    \"detailed_metrics\": [],\n",
      "    \"micro_precision_partial_match\": 0,\n",
      "    \"micro_recall_partial_match\": 0,\n",
      "    \"micro_f1_partial_match\": 0\n",
      "}\n"
     ]
    }
   ],
   "source": [
    "test_data_file = \"movieDialog_test.json\"\n",
    "\n",
    "quality_report = ensemble_emotion_model.evaluate_quality(test_data_file)\n",
    "print(json.dumps(quality_report, indent=4))"
   ]
  },
  {
   "cell_type": "markdown",
   "id": "a016fe32",
   "metadata": {},
   "source": [
    "Based on the micro precision, recall, and f1 score, this Ensemble model did not perform well on our test data. However hyperparameter tuning of the pre-trained model may improve its performance.\n",
    "<br><br>\n",
    "*The micro metrics are taken here instead of the macro metrics because of the class imbalance in the data."
   ]
  },
  {
   "cell_type": "markdown",
   "id": "815dab12",
   "metadata": {},
   "source": [
    "<span style=\"color:blue\">By parsing out the results of the model runs, we can visualize the difference between predicted labels and actual labels.</span>"
   ]
  },
  {
   "cell_type": "code",
   "execution_count": 14,
   "id": "dcc86075",
   "metadata": {},
   "outputs": [],
   "source": [
    "def run_emotion(text):\n",
    "    emotion_result = ensemble_emotion_model.run(text)\n",
    "    emo_dict = {emo.class_name:emo.confidence for emo in emotion_result.classes}\n",
    "    return emo_dict"
   ]
  },
  {
   "cell_type": "code",
   "execution_count": 15,
   "id": "60246468",
   "metadata": {},
   "outputs": [],
   "source": [
    "test_df = pd.read_json(test_data_file)\n",
    "test_df['label'] = test_df['labels'].str[0]\n",
    "test_df['label'] = test_df['label'].replace({'happiness':'joy'})"
   ]
  },
  {
   "cell_type": "code",
   "execution_count": 16,
   "id": "67128d9c",
   "metadata": {},
   "outputs": [],
   "source": [
    "output = []\n",
    "for line in test_df['text']:\n",
    "    output.append([line, run_emotion(line)])"
   ]
  },
  {
   "cell_type": "code",
   "execution_count": 17,
   "id": "7cb8207f",
   "metadata": {},
   "outputs": [],
   "source": [
    "emotion_df = pd.DataFrame(output, columns=['text', 'emotions'])\n",
    "emotion_df = pd.concat([emotion_df, emotion_df[\"emotions\"].apply(pd.Series)], axis=1)\n",
    "emotion_df = emotion_df.drop(['emotions'], axis=1)\n",
    "emotion_df['highest_emotion'] = emotion_df[['joy', 'anger', 'sadness', 'fear', 'disgust']].idxmax(axis=1)"
   ]
  },
  {
   "cell_type": "code",
   "execution_count": 18,
   "id": "2fc1193f",
   "metadata": {},
   "outputs": [
    {
     "data": {
      "text/plain": [
       "Text(0.5, 1.0, 'Test dataset labels')"
      ]
     },
     "execution_count": 18,
     "metadata": {},
     "output_type": "execute_result"
    },
    {
     "data": {
      "image/png": "[encoded data removed]",
      "text/plain": [
       "<Figure size 1440x720 with 2 Axes>"
      ]
     },
     "metadata": {
      "needs_background": "light"
     },
     "output_type": "display_data"
    }
   ],
   "source": [
    "figure, ax = plt.subplots(ncols=2, figsize=(20,10))\n",
    "figure.tight_layout(pad=5)\n",
    "sns.countplot(x=emotion_df['highest_emotion'],  data=emotion_df['highest_emotion'], order=emotion_df['highest_emotion'].value_counts().sort_index().index, ax=ax[0])\n",
    "for p, label in zip(ax[0].patches, emotion_df['highest_emotion'].value_counts().sort_index()): \n",
    "    ax[0].annotate(label, (p.get_x()+0.35, p.get_height()+0.5))\n",
    "ax[0].set_title('Ensemble model predictions')\n",
    "\n",
    "sns.countplot(x=test_df[\"label\"],  data=test_df[\"label\"], order=test_df[\"label\"].value_counts().sort_index().index, ax=ax[1])\n",
    "for p, label in zip(ax[1].patches, test_df[\"label\"].value_counts().sort_index()):   \n",
    "    ax[1].annotate(label, (p.get_x()+0.35, p.get_height()+0.5))\n",
    "ax[1].set_title('Test dataset labels')"
   ]
  },
  {
   "cell_type": "markdown",
   "id": "556a9f01",
   "metadata": {},
   "source": [
    "<a id=\"aggregated\"></a>\n",
    "### Aggregated emotion workflow\n",
    "Aggregated emotion model has the capability of specifying target words in addition to document emotion classification. [Docs](https://pages.github.ibm.com/ai-foundation/watson-nlp-documentation/workflow_emotion_aggregated.html)"
   ]
  },
  {
   "cell_type": "code",
   "execution_count": 19,
   "id": "4e8e180c",
   "metadata": {
    "scrolled": true
   },
   "outputs": [],
   "source": [
    "# Load the Emotion workflow model for English\n",
    "aggregated_emotion_model = watson_nlp.load(watson_nlp.download('aggregated_classification-wf_en_emotion-stock'))"
   ]
  },
  {
   "cell_type": "markdown",
   "id": "823daba6",
   "metadata": {},
   "source": [
    "<span style=\"color:blue\">By defining a target span of indices with the `target_mentions` parameter, the Aggregated model can predict emotion on exact segments of the input. </span>\n",
    "<br><br>\n",
    "<span style=\"color:blueviolet\">Similarly to the Ensemble model, the Aggregated model returns a list of dictionaries that indicate each label and its confidence score. As before, the highest confidence score deems the label of prediction. \n",
    "The first dictionary in the result is the prediction of the overall input; the subsequent dictionaries with a \\\"target\\\" key is the prediction of each targeted text span.</span>"
   ]
  },
  {
   "cell_type": "code",
   "execution_count": 20,
   "id": "8f9b7e0d",
   "metadata": {},
   "outputs": [
    {
     "name": "stdout",
     "output_type": "stream",
     "text": [
      "{\n",
      "  \"emotion_predictions\": [\n",
      "    {\n",
      "      \"emotion\": {\n",
      "        \"anger\": 0.014531953677202513,\n",
      "        \"disgust\": 0.015678834170103073,\n",
      "        \"fear\": 0.004446345653956418,\n",
      "        \"joy\": 0.9617643175703107,\n",
      "        \"sadness\": 0.04595572027293119\n",
      "      },\n",
      "      \"target\": \"sweet boy\",\n",
      "      \"emotion_mentions\": [\n",
      "        {\n",
      "          \"span\": {\n",
      "            \"begin\": 0,\n",
      "            \"end\": 17,\n",
      "            \"text\": \"Such a sweet boy.\"\n",
      "          },\n",
      "          \"emotion\": {\n",
      "            \"anger\": 0.014531953677202513,\n",
      "            \"disgust\": 0.015678834170103073,\n",
      "            \"fear\": 0.004446345653956418,\n",
      "            \"joy\": 0.9617643175703107,\n",
      "            \"sadness\": 0.04595572027293119\n",
      "          }\n",
      "        }\n",
      "      ]\n",
      "    },\n",
      "    {\n",
      "      \"emotion\": {\n",
      "        \"anger\": 0.16141723276990833,\n",
      "        \"disgust\": 0.016278604327729256,\n",
      "        \"fear\": 0.08282793606772569,\n",
      "        \"joy\": 0.0715819208910971,\n",
      "        \"sadness\": 0.2009543270775766\n",
      "      },\n",
      "      \"target\": \"much thought and careful consideration\",\n",
      "      \"emotion_mentions\": [\n",
      "        {\n",
      "          \"span\": {\n",
      "            \"begin\": 18,\n",
      "            \"end\": 153,\n",
      "            \"text\": \"But after much thought and careful consideration, I've decided that the ruler for the next ten thousand years is going to have to be...\"\n",
      "          },\n",
      "          \"emotion\": {\n",
      "            \"anger\": 0.16141723276990833,\n",
      "            \"disgust\": 0.016278604327729256,\n",
      "            \"fear\": 0.08282793606772569,\n",
      "            \"joy\": 0.0715819208910971,\n",
      "            \"sadness\": 0.2009543270775766\n",
      "          }\n",
      "        }\n",
      "      ]\n",
      "    },\n",
      "    {\n",
      "      \"emotion\": {\n",
      "        \"anger\": 0.08292401774717219,\n",
      "        \"disgust\": 0.019746868974632688,\n",
      "        \"fear\": 0.06145437870542414,\n",
      "        \"joy\": 0.46296765948786883,\n",
      "        \"sadness\": 0.1505387913097035\n",
      "      },\n",
      "      \"target\": \"\",\n",
      "      \"emotion_mentions\": [\n",
      "        {\n",
      "          \"span\": {\n",
      "            \"begin\": 0,\n",
      "            \"end\": 17,\n",
      "            \"text\": \"Such a sweet boy.\"\n",
      "          },\n",
      "          \"emotion\": {\n",
      "            \"anger\": 0.014531957066207146,\n",
      "            \"disgust\": 0.015678839814482315,\n",
      "            \"fear\": 0.004446344272626889,\n",
      "            \"joy\": 0.9617643175703107,\n",
      "            \"sadness\": 0.04595570672642101\n",
      "          }\n",
      "        },\n",
      "        {\n",
      "          \"span\": {\n",
      "            \"begin\": 18,\n",
      "            \"end\": 153,\n",
      "            \"text\": \"But after much thought and careful consideration, I've decided that the ruler for the next ten thousand years is going to have to be...\"\n",
      "          },\n",
      "          \"emotion\": {\n",
      "            \"anger\": 0.16141724180091513,\n",
      "            \"disgust\": 0.01627859981222586,\n",
      "            \"fear\": 0.08282791800571213,\n",
      "            \"joy\": 0.0715819208910971,\n",
      "            \"sadness\": 0.20095436771710715\n",
      "          }\n",
      "        },\n",
      "        {\n",
      "          \"span\": {\n",
      "            \"begin\": 154,\n",
      "            \"end\": 157,\n",
      "            \"text\": \"me.\"\n",
      "          },\n",
      "          \"emotion\": {\n",
      "            \"anger\": 0.07282285437439429,\n",
      "            \"disgust\": 0.027283167297189888,\n",
      "            \"fear\": 0.09708887383793341,\n",
      "            \"joy\": 0.3555567400021987,\n",
      "            \"sadness\": 0.2047062994855823\n",
      "          }\n",
      "        }\n",
      "      ]\n",
      "    }\n",
      "  ],\n",
      "  \"producer_id\": {\n",
      "    \"name\": \"Ensemble Aggregated Emotion Workflow\",\n",
      "    \"version\": \"0.0.1\"\n",
      "  }\n",
      "}\n"
     ]
    }
   ],
   "source": [
    "# span targets a section of the document given indices\n",
    "target_mentions = dm.TargetMentionsPrediction([dm.TargetMentions([(7, 16)]), dm.TargetMentions([(28, 66)])])\n",
    "\n",
    "aggregated_emotion_result_span = aggregated_emotion_model.run(\"Such a sweet boy. But after much thought and careful consideration, I've decided that the ruler for the next ten thousand years is going to have to be... me. \", \n",
    "                                   target_mentions=target_mentions)\n",
    "\n",
    "print(aggregated_emotion_result_span)"
   ]
  },
  {
   "cell_type": "markdown",
   "id": "bfb1a76e",
   "metadata": {},
   "source": [
    "<span style=\"color:blueviolet\">By defining a target text phrase with the `target_phrases` parameter, the Aggregated model can predict emotion on exact words and phrases in the input. \n",
    "The result is just like the previous return, but this time with the \\\"target\\\" key having the targeted phrase.</span>"
   ]
  },
  {
   "cell_type": "code",
   "execution_count": 21,
   "id": "92c1e7dc",
   "metadata": {
    "scrolled": true
   },
   "outputs": [
    {
     "name": "stdout",
     "output_type": "stream",
     "text": [
      "{\n",
      "  \"emotion_predictions\": [\n",
      "    {\n",
      "      \"emotion\": {\n",
      "        \"anger\": 0.014531953677202513,\n",
      "        \"disgust\": 0.015678834170103073,\n",
      "        \"fear\": 0.004446345653956418,\n",
      "        \"joy\": 0.9617643175703107,\n",
      "        \"sadness\": 0.04595572027293119\n",
      "      },\n",
      "      \"target\": \"sweet boy\",\n",
      "      \"emotion_mentions\": [\n",
      "        {\n",
      "          \"span\": {\n",
      "            \"begin\": 0,\n",
      "            \"end\": 17,\n",
      "            \"text\": \"Such a sweet boy.\"\n",
      "          },\n",
      "          \"emotion\": {\n",
      "            \"anger\": 0.014531953677202513,\n",
      "            \"disgust\": 0.015678834170103073,\n",
      "            \"fear\": 0.004446345653956418,\n",
      "            \"joy\": 0.9617643175703107,\n",
      "            \"sadness\": 0.04595572027293119\n",
      "          }\n",
      "        }\n",
      "      ]\n",
      "    },\n",
      "    {\n",
      "      \"emotion\": {\n",
      "        \"anger\": 0.16141723276990833,\n",
      "        \"disgust\": 0.016278604327729256,\n",
      "        \"fear\": 0.08282793606772569,\n",
      "        \"joy\": 0.0715819208910971,\n",
      "        \"sadness\": 0.2009543270775766\n",
      "      },\n",
      "      \"target\": \"careful consideration\",\n",
      "      \"emotion_mentions\": [\n",
      "        {\n",
      "          \"span\": {\n",
      "            \"begin\": 18,\n",
      "            \"end\": 153,\n",
      "            \"text\": \"But after much thought and careful consideration, I've decided that the ruler for the next ten thousand years is going to have to be...\"\n",
      "          },\n",
      "          \"emotion\": {\n",
      "            \"anger\": 0.16141723276990833,\n",
      "            \"disgust\": 0.016278604327729256,\n",
      "            \"fear\": 0.08282793606772569,\n",
      "            \"joy\": 0.0715819208910971,\n",
      "            \"sadness\": 0.2009543270775766\n",
      "          }\n",
      "        }\n",
      "      ]\n",
      "    },\n",
      "    {\n",
      "      \"emotion\": {\n",
      "        \"anger\": 0.08292401774717219,\n",
      "        \"disgust\": 0.019746868974632688,\n",
      "        \"fear\": 0.06145437870542414,\n",
      "        \"joy\": 0.46296765948786883,\n",
      "        \"sadness\": 0.1505387913097035\n",
      "      },\n",
      "      \"target\": \"\",\n",
      "      \"emotion_mentions\": [\n",
      "        {\n",
      "          \"span\": {\n",
      "            \"begin\": 0,\n",
      "            \"end\": 17,\n",
      "            \"text\": \"Such a sweet boy.\"\n",
      "          },\n",
      "          \"emotion\": {\n",
      "            \"anger\": 0.014531957066207146,\n",
      "            \"disgust\": 0.015678839814482315,\n",
      "            \"fear\": 0.004446344272626889,\n",
      "            \"joy\": 0.9617643175703107,\n",
      "            \"sadness\": 0.04595570672642101\n",
      "          }\n",
      "        },\n",
      "        {\n",
      "          \"span\": {\n",
      "            \"begin\": 18,\n",
      "            \"end\": 153,\n",
      "            \"text\": \"But after much thought and careful consideration, I've decided that the ruler for the next ten thousand years is going to have to be...\"\n",
      "          },\n",
      "          \"emotion\": {\n",
      "            \"anger\": 0.16141724180091513,\n",
      "            \"disgust\": 0.01627859981222586,\n",
      "            \"fear\": 0.08282791800571213,\n",
      "            \"joy\": 0.0715819208910971,\n",
      "            \"sadness\": 0.20095436771710715\n",
      "          }\n",
      "        },\n",
      "        {\n",
      "          \"span\": {\n",
      "            \"begin\": 154,\n",
      "            \"end\": 157,\n",
      "            \"text\": \"me.\"\n",
      "          },\n",
      "          \"emotion\": {\n",
      "            \"anger\": 0.07282285437439429,\n",
      "            \"disgust\": 0.027283167297189888,\n",
      "            \"fear\": 0.09708887383793341,\n",
      "            \"joy\": 0.3555567400021987,\n",
      "            \"sadness\": 0.2047062994855823\n",
      "          }\n",
      "        }\n",
      "      ]\n",
      "    }\n",
      "  ],\n",
      "  \"producer_id\": {\n",
      "    \"name\": \"Ensemble Aggregated Emotion Workflow\",\n",
      "    \"version\": \"0.0.1\"\n",
      "  }\n",
      "}\n"
     ]
    }
   ],
   "source": [
    "# text targets a section of the document given phrases\n",
    "target_phrases = ['sweet boy', 'careful consideration']\n",
    "\n",
    "aggregated_emotion_result_text = aggregated_emotion_model.run(\"Such a sweet boy. But after much thought and careful consideration, I've decided that the ruler for the next ten thousand years is going to have to be... me. \", \n",
    "                                   target_phrases=target_phrases)\n",
    "\n",
    "print(aggregated_emotion_result_text)"
   ]
  },
  {
   "cell_type": "markdown",
   "id": "ec87a600",
   "metadata": {},
   "source": [
    "<span style=\"color:blue\">By parsing out the results of the model runs, we can visualize the difference between predicted labels and actual labels.</span>"
   ]
  },
  {
   "cell_type": "code",
   "execution_count": 22,
   "id": "c3870604",
   "metadata": {},
   "outputs": [],
   "source": [
    "def run_emotion_2(text):\n",
    "    # run the emotion model on the result of the syntax analysis\n",
    "    emotion_result = aggregated_emotion_model.run(text, document_emotion=True)\n",
    "    \n",
    "    document_emotion = emotion_result.to_dict()['emotion_predictions'][0]['emotion']\n",
    "    mention_emotion = [(sm['span']['text'], sm['emotion']) for sm in emotion_result.to_dict()['emotion_predictions'][0]['emotion_mentions']]\n",
    "    return (document_emotion, mention_emotion)\n",
    "\n",
    "# Helper method to create a new dataframe with the corresponding emotion\n",
    "def create_emotion_dataframe(df):\n",
    "    emotion = df['text'].apply(lambda text: run_emotion_2(text))\n",
    "    emotion_df = pd.DataFrame.from_records(emotion, columns=('Document emotion', 'Mention emotion'))\n",
    "    return emotion_df"
   ]
  },
  {
   "cell_type": "code",
   "execution_count": 23,
   "id": "f8c67786",
   "metadata": {},
   "outputs": [],
   "source": [
    "# this will take some time\n",
    "emotion_2_df = create_emotion_dataframe(test_df)"
   ]
  },
  {
   "cell_type": "code",
   "execution_count": 24,
   "id": "de87706f",
   "metadata": {},
   "outputs": [],
   "source": [
    "document_emotion_df = df[['text']].merge(pd.DataFrame(emotion_2_df['Document emotion'].values.tolist()), \n",
    "                                          how='left', \n",
    "                                          left_index=True, \n",
    "                                          right_index=True)\n",
    "document_emotion_df['highest_emotion'] = document_emotion_df[['joy', 'anger', 'sadness', 'fear', 'disgust']].idxmax(axis=1)"
   ]
  },
  {
   "cell_type": "code",
   "execution_count": 25,
   "id": "aeabd050",
   "metadata": {},
   "outputs": [
    {
     "data": {
      "text/plain": [
       "Text(0.5, 1.0, 'Test dataset labels')"
      ]
     },
     "execution_count": 25,
     "metadata": {},
     "output_type": "execute_result"
    },
    {
     "data": {
      "image/png": "[encoded data removed]",
      "text/plain": [
       "<Figure size 1440x720 with 2 Axes>"
      ]
     },
     "metadata": {
      "needs_background": "light"
     },
     "output_type": "display_data"
    }
   ],
   "source": [
    "figure, ax = plt.subplots(ncols=2, figsize=(20,10))\n",
    "figure.tight_layout(pad=5)\n",
    "sns.countplot(x=document_emotion_df[\"highest_emotion\"],  data=document_emotion_df['highest_emotion'], order=document_emotion_df[\"highest_emotion\"].value_counts().sort_index().index, ax=ax[0])\n",
    "for p, label in zip(ax[0].patches, document_emotion_df[\"highest_emotion\"].value_counts().sort_index()):   \n",
    "    ax[0].annotate(label, (p.get_x()+0.35, p.get_height()+0.5))\n",
    "ax[0].set_title('Aggregated model predictions')\n",
    "\n",
    "sns.countplot(x=test_df[\"label\"],  data=test_df[\"label\"], order=test_df[\"label\"].value_counts().sort_index().index, ax=ax[1])\n",
    "for p, label in zip(ax[1].patches, test_df[\"label\"].value_counts().sort_index()):   \n",
    "    ax[1].annotate(label, (p.get_x()+0.35, p.get_height()+0.5))\n",
    "ax[1].set_title('Test dataset labels')"
   ]
  },
  {
   "cell_type": "markdown",
   "id": "2d59035e",
   "metadata": {},
   "source": [
    "<a id=\"words\"></a>\n",
    "## 5. Exploring document level token level predictions\n",
    "<span style=\"color:blue\">The cells that follow are an exploration of the Aggregated model with regard to document level and token level predictions. The model returns will be constructed into dataframes to better view results.</span>"
   ]
  },
  {
   "cell_type": "code",
   "execution_count": 26,
   "id": "537722dd",
   "metadata": {},
   "outputs": [],
   "source": [
    "# set the emotion model as the aggregated out of the box model because of its target mention capability\n",
    "emotion_model = aggregated_emotion_model"
   ]
  },
  {
   "cell_type": "code",
   "execution_count": 27,
   "id": "cea6130c",
   "metadata": {},
   "outputs": [],
   "source": [
    "def extract_emotion(text):\n",
    "    # run the emotion model on the result of the syntax analysis\n",
    "    emotion_result = emotion_model.run(text, document_emotion=True)\n",
    "    \n",
    "    document_emotion = emotion_result.to_dict()['emotion_predictions'][0]['emotion']\n",
    "    mention_emotion = [(sm['span']['text'], sm['emotion']) for sm in emotion_result.to_dict()['emotion_predictions'][0]['emotion_mentions']]\n",
    "    return (document_emotion, mention_emotion)\n",
    "\n",
    "# Helper method to create a new dataframe with the corresponding emotion\n",
    "def create_emotion_dataframe(df):\n",
    "    emotion = df['text'].apply(lambda text: extract_emotion(text))\n",
    "    emotion_df = pd.DataFrame.from_records(emotion, columns=('Document emotion', 'Mention emotion'))\n",
    "    return emotion_df"
   ]
  },
  {
   "cell_type": "code",
   "execution_count": 34,
   "id": "a82975f8",
   "metadata": {},
   "outputs": [],
   "source": [
    "# this will take some time\n",
    "emotion_df = create_emotion_dataframe(df)"
   ]
  },
  {
   "cell_type": "markdown",
   "id": "16594d6e",
   "metadata": {},
   "source": [
    "<span style=\"color:blue\">In the context of the dataset, each row is a different and unrelated movie dialog from the entire dataset (before train-test split).</span>"
   ]
  },
  {
   "cell_type": "code",
   "execution_count": 35,
   "id": "49e95c03",
   "metadata": {},
   "outputs": [
    {
     "data": {
      "text/html": [
       "<div>\n",
       "<style scoped>\n",
       "    .dataframe tbody tr th:only-of-type {\n",
       "        vertical-align: middle;\n",
       "    }\n",
       "\n",
       "    .dataframe tbody tr th {\n",
       "        vertical-align: top;\n",
       "    }\n",
       "\n",
       "    .dataframe thead th {\n",
       "        text-align: right;\n",
       "    }\n",
       "</style>\n",
       "<table border=\"1\" class=\"dataframe\">\n",
       "  <thead>\n",
       "    <tr style=\"text-align: right;\">\n",
       "      <th></th>\n",
       "      <th>text</th>\n",
       "      <th>anger</th>\n",
       "      <th>disgust</th>\n",
       "      <th>fear</th>\n",
       "      <th>joy</th>\n",
       "      <th>sadness</th>\n",
       "    </tr>\n",
       "  </thead>\n",
       "  <tbody>\n",
       "    <tr>\n",
       "      <th>0</th>\n",
       "      <td>No... sort of. Man, she could be cool, but all she does is get wrecked and do all the guys. She's blowin' them in the parking lot.</td>\n",
       "      <td>0.091589</td>\n",
       "      <td>0.101249</td>\n",
       "      <td>0.127507</td>\n",
       "      <td>0.179821</td>\n",
       "      <td>0.280981</td>\n",
       "    </tr>\n",
       "    <tr>\n",
       "      <th>1</th>\n",
       "      <td>Poker sounds great. When do you play?</td>\n",
       "      <td>0.070759</td>\n",
       "      <td>0.047147</td>\n",
       "      <td>0.089574</td>\n",
       "      <td>0.533756</td>\n",
       "      <td>0.179207</td>\n",
       "    </tr>\n",
       "    <tr>\n",
       "      <th>2</th>\n",
       "      <td>Washington! Always discussing the problems of Washington. Nobody ever thinks of the State--and my problems!  I *will* tell Jim Taylor. It's high *time* I told him a thing or two!</td>\n",
       "      <td>0.222626</td>\n",
       "      <td>0.040641</td>\n",
       "      <td>0.185320</td>\n",
       "      <td>0.173301</td>\n",
       "      <td>0.250626</td>\n",
       "    </tr>\n",
       "    <tr>\n",
       "      <th>3</th>\n",
       "      <td>You know, Julie, even if this works - which it probably won't - that stuff is tricky. You don't know what it'll do to his brain.</td>\n",
       "      <td>0.130315</td>\n",
       "      <td>0.030532</td>\n",
       "      <td>0.311909</td>\n",
       "      <td>0.043280</td>\n",
       "      <td>0.298986</td>\n",
       "    </tr>\n",
       "    <tr>\n",
       "      <th>4</th>\n",
       "      <td>David, please be rational. Let's go to Dr. Hirsch.</td>\n",
       "      <td>0.048054</td>\n",
       "      <td>0.017707</td>\n",
       "      <td>0.472761</td>\n",
       "      <td>0.230007</td>\n",
       "      <td>0.088004</td>\n",
       "    </tr>\n",
       "    <tr>\n",
       "      <th>...</th>\n",
       "      <td>...</td>\n",
       "      <td>...</td>\n",
       "      <td>...</td>\n",
       "      <td>...</td>\n",
       "      <td>...</td>\n",
       "      <td>...</td>\n",
       "    </tr>\n",
       "    <tr>\n",
       "      <th>4294</th>\n",
       "      <td>You can't have nothing, Jill. We need lunch. Mr. Pizza?</td>\n",
       "      <td>0.103425</td>\n",
       "      <td>0.030539</td>\n",
       "      <td>0.064858</td>\n",
       "      <td>0.386445</td>\n",
       "      <td>0.150501</td>\n",
       "    </tr>\n",
       "    <tr>\n",
       "      <th>4295</th>\n",
       "      <td>You can't help me, man.</td>\n",
       "      <td>0.152057</td>\n",
       "      <td>0.050473</td>\n",
       "      <td>0.113592</td>\n",
       "      <td>0.105413</td>\n",
       "      <td>0.468593</td>\n",
       "    </tr>\n",
       "    <tr>\n",
       "      <th>4296</th>\n",
       "      <td>You don't know.  I'm sorry.  I was desperate.  That's not me.  I shot a cop.  Can you imagine what they'll do to me when I got to prison?</td>\n",
       "      <td>0.157979</td>\n",
       "      <td>0.103479</td>\n",
       "      <td>0.144720</td>\n",
       "      <td>0.139576</td>\n",
       "      <td>0.323363</td>\n",
       "    </tr>\n",
       "    <tr>\n",
       "      <th>4297</th>\n",
       "      <td>You just try getting a dangerous organism past ICC quarantine. Section 22350 of the Commerce Code.</td>\n",
       "      <td>0.054277</td>\n",
       "      <td>0.058827</td>\n",
       "      <td>0.090908</td>\n",
       "      <td>0.142387</td>\n",
       "      <td>0.459514</td>\n",
       "    </tr>\n",
       "    <tr>\n",
       "      <th>4298</th>\n",
       "      <td>You should be ashamed of yourself.</td>\n",
       "      <td>0.161455</td>\n",
       "      <td>0.384721</td>\n",
       "      <td>0.028834</td>\n",
       "      <td>0.015218</td>\n",
       "      <td>0.586162</td>\n",
       "    </tr>\n",
       "  </tbody>\n",
       "</table>\n",
       "<p>4299 rows × 6 columns</p>\n",
       "</div>"
      ],
      "text/plain": [
       "                                                                                                                                                                                     text  \\\n",
       "0     No... sort of. Man, she could be cool, but all she does is get wrecked and do all the guys. She's blowin' them in the parking lot.                                                    \n",
       "1     Poker sounds great. When do you play?                                                                                                                                                 \n",
       "2     Washington! Always discussing the problems of Washington. Nobody ever thinks of the State--and my problems!  I *will* tell Jim Taylor. It's high *time* I told him a thing or two!    \n",
       "3     You know, Julie, even if this works - which it probably won't - that stuff is tricky. You don't know what it'll do to his brain.                                                      \n",
       "4     David, please be rational. Let's go to Dr. Hirsch.                                                                                                                                    \n",
       "...                                                   ...                                                                                                                                   \n",
       "4294  You can't have nothing, Jill. We need lunch. Mr. Pizza?                                                                                                                               \n",
       "4295  You can't help me, man.                                                                                                                                                               \n",
       "4296  You don't know.  I'm sorry.  I was desperate.  That's not me.  I shot a cop.  Can you imagine what they'll do to me when I got to prison?                                             \n",
       "4297  You just try getting a dangerous organism past ICC quarantine. Section 22350 of the Commerce Code.                                                                                    \n",
       "4298  You should be ashamed of yourself.                                                                                                                                                    \n",
       "\n",
       "         anger   disgust      fear       joy   sadness  \n",
       "0     0.091589  0.101249  0.127507  0.179821  0.280981  \n",
       "1     0.070759  0.047147  0.089574  0.533756  0.179207  \n",
       "2     0.222626  0.040641  0.185320  0.173301  0.250626  \n",
       "3     0.130315  0.030532  0.311909  0.043280  0.298986  \n",
       "4     0.048054  0.017707  0.472761  0.230007  0.088004  \n",
       "...        ...       ...       ...       ...       ...  \n",
       "4294  0.103425  0.030539  0.064858  0.386445  0.150501  \n",
       "4295  0.152057  0.050473  0.113592  0.105413  0.468593  \n",
       "4296  0.157979  0.103479  0.144720  0.139576  0.323363  \n",
       "4297  0.054277  0.058827  0.090908  0.142387  0.459514  \n",
       "4298  0.161455  0.384721  0.028834  0.015218  0.586162  \n",
       "\n",
       "[4299 rows x 6 columns]"
      ]
     },
     "execution_count": 35,
     "metadata": {},
     "output_type": "execute_result"
    }
   ],
   "source": [
    "document_emotion_df = df[['text']].merge(pd.DataFrame(emotion_df['Document emotion'].values.tolist()), \n",
    "                                          how='left', \n",
    "                                          left_index=True, \n",
    "                                          right_index=True)\n",
    "document_emotion_df"
   ]
  },
  {
   "cell_type": "markdown",
   "id": "88ce325c",
   "metadata": {},
   "source": [
    "<span style=\"color:blueviolet\">Each document (dialog) is broken down into tokenized \\\"sentences\\\" called `Mention`. The dataframe displays confidence scores for each Mention in the dialog.</span>"
   ]
  },
  {
   "cell_type": "code",
   "execution_count": 36,
   "id": "5c10cc86",
   "metadata": {},
   "outputs": [
    {
     "data": {
      "text/html": [
       "<div>\n",
       "<style scoped>\n",
       "    .dataframe tbody tr th:only-of-type {\n",
       "        vertical-align: middle;\n",
       "    }\n",
       "\n",
       "    .dataframe tbody tr th {\n",
       "        vertical-align: top;\n",
       "    }\n",
       "\n",
       "    .dataframe thead th {\n",
       "        text-align: right;\n",
       "    }\n",
       "</style>\n",
       "<table border=\"1\" class=\"dataframe\">\n",
       "  <thead>\n",
       "    <tr style=\"text-align: right;\">\n",
       "      <th></th>\n",
       "      <th>text</th>\n",
       "      <th>Mention</th>\n",
       "      <th>anger</th>\n",
       "      <th>disgust</th>\n",
       "      <th>fear</th>\n",
       "      <th>joy</th>\n",
       "      <th>sadness</th>\n",
       "    </tr>\n",
       "  </thead>\n",
       "  <tbody>\n",
       "    <tr>\n",
       "      <th>0</th>\n",
       "      <td>No... sort of. Man, she could be cool, but all she does is get wrecked and do all the guys. She's blowin' them in the parking lot.</td>\n",
       "      <td>No...</td>\n",
       "      <td>0.168124</td>\n",
       "      <td>0.058029</td>\n",
       "      <td>0.133240</td>\n",
       "      <td>0.059511</td>\n",
       "      <td>0.531680</td>\n",
       "    </tr>\n",
       "    <tr>\n",
       "      <th>1</th>\n",
       "      <td>No... sort of. Man, she could be cool, but all she does is get wrecked and do all the guys. She's blowin' them in the parking lot.</td>\n",
       "      <td>sort of.</td>\n",
       "      <td>0.060752</td>\n",
       "      <td>0.045201</td>\n",
       "      <td>0.098103</td>\n",
       "      <td>0.174564</td>\n",
       "      <td>0.390191</td>\n",
       "    </tr>\n",
       "    <tr>\n",
       "      <th>2</th>\n",
       "      <td>No... sort of. Man, she could be cool, but all she does is get wrecked and do all the guys. She's blowin' them in the parking lot.</td>\n",
       "      <td>Man, she could be cool, but all she does is get wrecked and do all the guys.</td>\n",
       "      <td>0.079805</td>\n",
       "      <td>0.029354</td>\n",
       "      <td>0.184642</td>\n",
       "      <td>0.313404</td>\n",
       "      <td>0.096801</td>\n",
       "    </tr>\n",
       "    <tr>\n",
       "      <th>3</th>\n",
       "      <td>No... sort of. Man, she could be cool, but all she does is get wrecked and do all the guys. She's blowin' them in the parking lot.</td>\n",
       "      <td>She's blowin' them in the parking lot.</td>\n",
       "      <td>0.057676</td>\n",
       "      <td>0.272411</td>\n",
       "      <td>0.094043</td>\n",
       "      <td>0.171805</td>\n",
       "      <td>0.105253</td>\n",
       "    </tr>\n",
       "    <tr>\n",
       "      <th>4</th>\n",
       "      <td>Poker sounds great. When do you play?</td>\n",
       "      <td>Poker sounds great.</td>\n",
       "      <td>0.020171</td>\n",
       "      <td>0.008876</td>\n",
       "      <td>0.025652</td>\n",
       "      <td>0.961723</td>\n",
       "      <td>0.172872</td>\n",
       "    </tr>\n",
       "    <tr>\n",
       "      <th>...</th>\n",
       "      <td>...</td>\n",
       "      <td>...</td>\n",
       "      <td>...</td>\n",
       "      <td>...</td>\n",
       "      <td>...</td>\n",
       "      <td>...</td>\n",
       "      <td>...</td>\n",
       "    </tr>\n",
       "    <tr>\n",
       "      <th>8219</th>\n",
       "      <td>You don't know.  I'm sorry.  I was desperate.  That's not me.  I shot a cop.  Can you imagine what they'll do to me when I got to prison?</td>\n",
       "      <td>I shot a cop.</td>\n",
       "      <td>0.244811</td>\n",
       "      <td>0.326208</td>\n",
       "      <td>0.109765</td>\n",
       "      <td>0.048646</td>\n",
       "      <td>0.118646</td>\n",
       "    </tr>\n",
       "    <tr>\n",
       "      <th>8220</th>\n",
       "      <td>You don't know.  I'm sorry.  I was desperate.  That's not me.  I shot a cop.  Can you imagine what they'll do to me when I got to prison?</td>\n",
       "      <td>Can you imagine what they'll do to me when I got to prison?</td>\n",
       "      <td>0.218020</td>\n",
       "      <td>0.085483</td>\n",
       "      <td>0.211432</td>\n",
       "      <td>0.026062</td>\n",
       "      <td>0.175031</td>\n",
       "    </tr>\n",
       "    <tr>\n",
       "      <th>8221</th>\n",
       "      <td>You just try getting a dangerous organism past ICC quarantine. Section 22350 of the Commerce Code.</td>\n",
       "      <td>You just try getting a dangerous organism past ICC quarantine.</td>\n",
       "      <td>0.064820</td>\n",
       "      <td>0.108531</td>\n",
       "      <td>0.158357</td>\n",
       "      <td>0.024554</td>\n",
       "      <td>0.291375</td>\n",
       "    </tr>\n",
       "    <tr>\n",
       "      <th>8222</th>\n",
       "      <td>You just try getting a dangerous organism past ICC quarantine. Section 22350 of the Commerce Code.</td>\n",
       "      <td>Section 22350 of the Commerce Code.</td>\n",
       "      <td>0.043734</td>\n",
       "      <td>0.009124</td>\n",
       "      <td>0.023458</td>\n",
       "      <td>0.260219</td>\n",
       "      <td>0.627653</td>\n",
       "    </tr>\n",
       "    <tr>\n",
       "      <th>8223</th>\n",
       "      <td>You should be ashamed of yourself.</td>\n",
       "      <td>You should be ashamed of yourself.</td>\n",
       "      <td>0.161455</td>\n",
       "      <td>0.384721</td>\n",
       "      <td>0.028834</td>\n",
       "      <td>0.015218</td>\n",
       "      <td>0.586162</td>\n",
       "    </tr>\n",
       "  </tbody>\n",
       "</table>\n",
       "<p>8224 rows × 7 columns</p>\n",
       "</div>"
      ],
      "text/plain": [
       "                                                                                                                                            text  \\\n",
       "0     No... sort of. Man, she could be cool, but all she does is get wrecked and do all the guys. She's blowin' them in the parking lot.           \n",
       "1     No... sort of. Man, she could be cool, but all she does is get wrecked and do all the guys. She's blowin' them in the parking lot.           \n",
       "2     No... sort of. Man, she could be cool, but all she does is get wrecked and do all the guys. She's blowin' them in the parking lot.           \n",
       "3     No... sort of. Man, she could be cool, but all she does is get wrecked and do all the guys. She's blowin' them in the parking lot.           \n",
       "4     Poker sounds great. When do you play?                                                                                                        \n",
       "...                                      ...                                                                                                       \n",
       "8219  You don't know.  I'm sorry.  I was desperate.  That's not me.  I shot a cop.  Can you imagine what they'll do to me when I got to prison?    \n",
       "8220  You don't know.  I'm sorry.  I was desperate.  That's not me.  I shot a cop.  Can you imagine what they'll do to me when I got to prison?    \n",
       "8221  You just try getting a dangerous organism past ICC quarantine. Section 22350 of the Commerce Code.                                           \n",
       "8222  You just try getting a dangerous organism past ICC quarantine. Section 22350 of the Commerce Code.                                           \n",
       "8223  You should be ashamed of yourself.                                                                                                           \n",
       "\n",
       "                                                                           Mention  \\\n",
       "0     No...                                                                          \n",
       "1     sort of.                                                                       \n",
       "2     Man, she could be cool, but all she does is get wrecked and do all the guys.   \n",
       "3     She's blowin' them in the parking lot.                                         \n",
       "4     Poker sounds great.                                                            \n",
       "...                   ...                                                            \n",
       "8219  I shot a cop.                                                                  \n",
       "8220  Can you imagine what they'll do to me when I got to prison?                    \n",
       "8221  You just try getting a dangerous organism past ICC quarantine.                 \n",
       "8222  Section 22350 of the Commerce Code.                                            \n",
       "8223  You should be ashamed of yourself.                                             \n",
       "\n",
       "         anger   disgust      fear       joy   sadness  \n",
       "0     0.168124  0.058029  0.133240  0.059511  0.531680  \n",
       "1     0.060752  0.045201  0.098103  0.174564  0.390191  \n",
       "2     0.079805  0.029354  0.184642  0.313404  0.096801  \n",
       "3     0.057676  0.272411  0.094043  0.171805  0.105253  \n",
       "4     0.020171  0.008876  0.025652  0.961723  0.172872  \n",
       "...        ...       ...       ...       ...       ...  \n",
       "8219  0.244811  0.326208  0.109765  0.048646  0.118646  \n",
       "8220  0.218020  0.085483  0.211432  0.026062  0.175031  \n",
       "8221  0.064820  0.108531  0.158357  0.024554  0.291375  \n",
       "8222  0.043734  0.009124  0.023458  0.260219  0.627653  \n",
       "8223  0.161455  0.384721  0.028834  0.015218  0.586162  \n",
       "\n",
       "[8224 rows x 7 columns]"
      ]
     },
     "execution_count": 36,
     "metadata": {},
     "output_type": "execute_result"
    }
   ],
   "source": [
    "mention_emotion_df = df[['text']].merge(emotion_df['Mention emotion'], \n",
    "                                        how='left', \n",
    "                                        left_index=True, \n",
    "                                        right_index=True).explode('Mention emotion')\n",
    "mention_emotion_df[['Mention', 'Mention emotion']] = pd.DataFrame(mention_emotion_df['Mention emotion'].values.tolist(), \n",
    "                                                                  index=mention_emotion_df.index)\n",
    "mention_emotion_df = mention_emotion_df.reset_index(drop=True)\n",
    "mention_emotion_df = mention_emotion_df.merge(pd.DataFrame(mention_emotion_df['Mention emotion'].values.tolist()), \n",
    "                                              how='left', \n",
    "                                              left_index=True, \n",
    "                                              right_index=True).drop(['Mention emotion'], \n",
    "                                                                     axis=1).reset_index(drop=True)\n",
    "mention_emotion_df"
   ]
  },
  {
   "cell_type": "markdown",
   "id": "6965d599",
   "metadata": {},
   "source": [
    "## 6. Summary"
   ]
  },
  {
   "cell_type": "markdown",
   "id": "2bdb1d73",
   "metadata": {},
   "source": [
    "<span style=\"color:blue\">This notebook shows you how to use the Watson NLP library and how quickly and easily you can get started with Watson NLP by running the pretrained models for emotion analysis."
   ]
  },
  {
   "cell_type": "code",
   "execution_count": null,
   "id": "07d8e4b7",
   "metadata": {},
   "outputs": [],
   "source": []
  }
 ],
 "metadata": {
  "kernelspec": {
   "display_name": "Python 3.8 Watson NLP",
   "language": "python",
   "name": "python3"
  },
  "language_info": {
   "codemirror_mode": {
    "name": "ipython",
    "version": 3
   },
   "file_extension": ".py",
   "mimetype": "text/x-python",
   "name": "python",
   "nbconvert_exporter": "python",
   "pygments_lexer": "ipython3",
   "version": "3.8.11"
  }
 },
 "nbformat": 4,
 "nbformat_minor": 5
}
